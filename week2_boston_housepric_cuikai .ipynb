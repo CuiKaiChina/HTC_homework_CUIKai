{
 "cells": [
  {
   "cell_type": "markdown",
   "metadata": {},
   "source": [
    "Thinking1：为什么我们需要在神经网络中使用非线性激活函数\n",
    "\n",
    "\n",
    "**如果使用线性激活函数或者不使用激活函数，那么无论你的神经网络有多少层，一直在做的也只是计算线性函数，表达能力不够强**"
   ]
  },
  {
   "cell_type": "markdown",
   "metadata": {},
   "source": [
    "Thinking2：逻辑回归Logistic Loss是什么，解决分类问题 or 回归问题"
   ]
  },
  {
   "cell_type": "markdown",
   "metadata": {},
   "source": [
    "**解决分类问题**"
   ]
  },
  {
   "cell_type": "markdown",
   "metadata": {},
   "source": [
    "### Action1：使用numpy编写神经网络，完成boston房价预测问题"
   ]
  },
  {
   "cell_type": "code",
   "execution_count": 46,
   "metadata": {},
   "outputs": [],
   "source": [
    "from sklearn.datasets import load_boston \n",
    "import numpy as np\n",
    "import matplotlib.pyplot as plt\n",
    "def load_data():   \n",
    "    data1 = load_boston()\n",
    "    temp1 = (data1)['data']    \n",
    "    temp2 =(data1)['target'][:, np.newaxis]\n",
    "    print(temp2.shape)\n",
    "\n",
    "    # 将13个特征和一个标签拼成一个大矩阵\n",
    "    data = np.hstack((temp1,temp2))\n",
    "\n",
    "    # 将原数据集拆分成训练集和测试集\n",
    "    # 这里使用80%的数据做训练，20%的数据做测试\n",
    "    # 测试集和训练集必须是没有交集的\n",
    "    ratio = 0.8\n",
    "    offset = int(data.shape[0] * ratio)\n",
    "    training_data = data[:offset]\n",
    "\n",
    "    # 计算train数据集的最大值，最小值，平均值\n",
    "    maximums, minimums, avgs = training_data.max(axis=0), training_data.min(axis=0), \\\n",
    "                                 training_data.sum(axis=0) / training_data.shape[0]\n",
    "    # 对数据进行归一化处理\n",
    "    for i in range(data.shape[1]):\n",
    "        #print(maximums[i], minimums[i], avgs[i])\n",
    "        data[:, i] = (data[:, i] - avgs[i]) / (maximums[i] - minimums[i])\n",
    "\n",
    "    # 训练集和测试集的划分比例\n",
    "    training_data = data[:offset]\n",
    "    test_data = data[offset:]\n",
    "    return training_data, test_data"
   ]
  },
  {
   "cell_type": "markdown",
   "metadata": {},
   "source": [
    "### 修改"
   ]
  },
  {
   "cell_type": "code",
   "execution_count": 66,
   "metadata": {},
   "outputs": [
    {
     "name": "stdout",
     "output_type": "stream",
     "text": [
      "(506, 1)\n"
     ]
    },
    {
     "data": {
      "image/png": "[encoded data removed]",
      "text/plain": [
       "<Figure size 432x288 with 1 Axes>"
      ]
     },
     "metadata": {
      "needs_background": "light"
     },
     "output_type": "display_data"
    },
    {
     "name": "stdout",
     "output_type": "stream",
     "text": [
      "w1 = [[-1.12066809 -0.05560125  1.56254881 -0.79259637 -0.56585845 -0.31344767\n",
      "   0.25956291  0.49606333  1.26064615  0.49922422]\n",
      " [-0.09460359  1.26101552  0.7274505  -1.4818753   2.51345551  1.75322815\n",
      "  -0.14208139  0.32143129  1.30204663 -0.17314904]\n",
      " [ 0.71019447  1.01302204 -1.07031898 -0.60041226  0.92283182  0.45112563\n",
      "   0.87624858 -0.14059358 -0.29614417 -2.00303366]\n",
      " [-1.11149904 -0.00808231  0.76497792  0.49634308 -0.12666605 -0.27289471\n",
      "   0.18916355 -0.02118366  1.25239094  0.15216091]\n",
      " [-1.49136207 -1.36451559  1.45900166 -1.16289422  0.76574408 -0.28322769\n",
      "  -0.21107519 -0.15747864  1.18936901 -0.19661487]\n",
      " [-0.02461259 -1.51277616  0.22567877  0.52844018  0.23670959  1.39525051\n",
      "   0.06751154  0.26256106  1.62063659 -1.5527056 ]\n",
      " [-0.46590831  1.32962428  0.86458885  0.66238096  0.83646239  0.31778254\n",
      "   1.57503711  0.32932899  0.20085178  0.16062881]\n",
      " [ 0.19316434 -1.09989625  0.80357259 -0.12783974  1.8167787  -0.07130515\n",
      "   0.45034406  0.26309426 -0.60644811  0.99359157]\n",
      " [ 1.81524734 -0.11956975 -0.37423825 -0.34307674 -1.8869721  -0.19775474\n",
      "   0.2056634   0.93600864  0.94421473 -0.41722462]\n",
      " [-0.34584039  1.01422331 -0.24162305 -0.49232518  1.39184543  1.01617002\n",
      "  -0.02836443 -0.66217765 -1.99960662  0.58510313]\n",
      " [-0.89450238 -1.93684923  1.54877234  0.64142481 -1.13322238 -1.20011165\n",
      "   0.8543447  -0.82590095  1.31338642  0.61766115]\n",
      " [ 0.53036753  0.41382651  0.1981755   0.87670966 -0.45362095  0.08777864\n",
      "   0.75457729  0.54330661 -1.17656106 -0.5007381 ]\n",
      " [ 0.22360996 -0.4697619   1.71964262 -0.39394983 -0.15954374  0.76122302\n",
      "   0.29876607 -0.15120541 -0.74536015  0.30451732]]\n",
      " w2 = [[ 0.28553235]\n",
      " [ 0.16834442]\n",
      " [-0.02368562]\n",
      " [ 0.07504223]\n",
      " [-0.18749866]\n",
      " [-0.04594007]\n",
      " [-0.18557294]\n",
      " [ 0.63719667]\n",
      " [ 0.28921447]\n",
      " [-0.18523397]]\n"
     ]
    }
   ],
   "source": [
    "class Network(object):\n",
    "    def __init__(self, num_of_weights):\n",
    "        # 随机产生w的初始值\n",
    "        # 为了保持程序每次运行结果的一致性，此处设置固定的随机数种子\n",
    "        np.random.seed(0)       \n",
    "        self.n_hidden = 10\n",
    "        self.w1 = np.random.randn(num_of_weights,n_hidden)  # 设置随机的权重\n",
    "        self.b1 = np.zeros(n_hidden)  # 这里偏置为0\n",
    "        self.w2 = np.random.rand(n_hidden,1)  # 这里因为输出只有一个模型，所以输出维度为1\n",
    "        self.b2 = np.zeros(1)\n",
    "                   \n",
    "    def Relu(self,x):\n",
    "        return np.where(x < 0,0,x)\n",
    "    \n",
    "    def MSE_loss(self, y,y_pred):\n",
    "        return np.mean(np.square(y_pred - y))\n",
    "        \n",
    "    def Linear(self,x,w,b):\n",
    "        z = x.dot(w) + b\n",
    "        return z\n",
    "    \n",
    "    def back_gradient(self, y_pred, y,s1):\n",
    "        grad_y_pred = 2.0 * (y_pred - y)\n",
    "        grad_w2 = s1.T.dot(grad_y_pred)\n",
    "        grad_temp_relu = grad_y_pred.dot(self.w2.T)\n",
    "        grad_temp_relu[l1 < 0] = 0\n",
    "        grad_w1 = x.T.dot(grad_temp_relu) \n",
    "        return grad_w1, grad_w2\n",
    "    \n",
    "    def update(self, grad_w1,rad_w2,learning_rate):\n",
    "        self.w1 -= learning_rate * grad_w1\n",
    "        self.w2 -= learning_rate * grad_w2      \n",
    "            \n",
    "    def train(self, x, y, iterations, learning_rate):\n",
    "        losses = []  # 记录每次迭代损失值\n",
    "        for t in range(num_iterations):\n",
    "            # 前向传播\n",
    "            l1 = self.Linear(x,self.w1,self.b1)\n",
    "            s1 = self.Relu(l1)\n",
    "            y_pred = self.Linear(s1,self.w2,self.b2)\n",
    "            # 计算损失函数\n",
    "            loss = MSE_loss(y,y_pred)\n",
    "            losses.append(loss)\n",
    "            # 反向传播\n",
    "            grad_w1,grad_w2 = self.back_gradient(y_pred, y,s1)\n",
    "            # 权重更新\n",
    "            self.update(grad_w1,grad_w2,learning_rate)          \n",
    "        return losses\n",
    "        \n",
    "# 获取数据\n",
    "train_data, test_data = load_data()\n",
    "x = train_data[:, :-1]\n",
    "y = train_data[:, -1:]\n",
    "\n",
    "# 创建网络\n",
    "net = Network(13)\n",
    "num_iterations=50000\n",
    "# 启动训练\n",
    "losses = net.train(x,y, iterations = num_iterations, learning_rate = 1e-6)\n",
    "\n",
    "# 画出损失函数的变化趋势    \n",
    "plot_x = np.arange(num_iterations)\n",
    "plot_y = np.array(losses)\n",
    "plt.rcParams['font.sans-serif'] = ['SimHei']\n",
    "plt.plot(plot_x, plot_y)\n",
    "plt.xlabel('迭代次数')\n",
    "plt.ylabel('损失函数')\n",
    "plt.show()\n",
    "print('w1 = {}\\n w2 = {}'.format(w1,w2))"
   ]
  }
 ],
 "metadata": {
  "kernelspec": {
   "display_name": "Python 3",
   "language": "python",
   "name": "python3"
  },
  "language_info": {
   "codemirror_mode": {
    "name": "ipython",
    "version": 3
   },
   "file_extension": ".py",
   "mimetype": "text/x-python",
   "name": "python",
   "nbconvert_exporter": "python",
   "pygments_lexer": "ipython3",
   "version": "3.7.6"
  }
 },
 "nbformat": 4,
 "nbformat_minor": 4
}
